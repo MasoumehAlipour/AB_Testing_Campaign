{
 "cells": [
  {
   "cell_type": "markdown",
   "id": "b3d0fcff",
   "metadata": {
    "papermill": {
     "duration": 0.01549,
     "end_time": "2024-03-26T09:21:37.224514",
     "exception": false,
     "start_time": "2024-03-26T09:21:37.209024",
     "status": "completed"
    },
    "tags": []
   },
   "source": [
    "# A/B Testing Advertising Campaign for Increased Customer Purchases\n",
    "\n",
    "\n",
    "## 1.Project Overview:\n",
    "\n",
    "A company aims to run a successful advertising campaign that effectively increases customer purchases through product advertisements.  To ensure the campaign's effectiveness in boosting sales, the company will conduct an A/B test.\n",
    "\n",
    "### 1.1 Questions:\n",
    "Would the campaign be successful?\n",
    "\n",
    "### 1.2 Methodology:\n",
    "\n",
    "The company will divide potential customers into two groups:\n",
    "\n",
    "Experimental Group: The majority of customers will be exposed to the product advertisements.\n",
    "\n",
    "Control Group: A smaller portion of customers will see a Public Service Announcement (PSA) or nothing at all in the same space typically occupied by the ad.\n",
    "\n",
    "### 1.3 Statistical Analysis:\n",
    "\n",
    "Since we have two separate groups (experimental and control), a two-sample hypothesis test (A/B testing) will be used to analyze the results and determine the effectiveness of the advertising campaign in driving sales.\n",
    "\n",
    "\n",
    "### 1.4 About Data:\n",
    "Data dictionary:\n",
    "- Index: Row index\n",
    "- user id: User ID (unique)\n",
    "- test group: If \"ad\" the person saw the advertisement, if \"psa\" they only saw the public service announcement\n",
    "- converted: If a person bought the product, then True, else is False\n",
    "- total ads: Amount of ads seen by person\n",
    "- most ads day: Day that the person saw the biggest amount of ads\n",
    "- most ads hour: Hour of day that the person saw the biggest amount of ads"
   ]
  },
  {
   "cell_type": "markdown",
   "id": "4f0c0436",
   "metadata": {
    "papermill": {
     "duration": 0.014634,
     "end_time": "2024-03-26T09:21:37.255478",
     "exception": false,
     "start_time": "2024-03-26T09:21:37.240844",
     "status": "completed"
    },
    "tags": []
   },
   "source": [
    "## 2.  Preprocessing\n",
    "\n",
    "Here, I imported all the required libraries and extensions for data analysis: \n",
    "\n",
    "- NumPy for numerical computations, \n",
    "- Pandas for data manipulation and preprocessing, \n",
    "- Matplotlib for visualization,  \n",
    "- SciPy for statistical modeling.\n",
    "\n",
    "After importing the dataset, I explore it to gain a better understanding."
   ]
  },
  {
   "cell_type": "markdown",
   "id": "30560982",
   "metadata": {
    "papermill": {
     "duration": 0.015113,
     "end_time": "2024-03-26T09:21:37.285471",
     "exception": false,
     "start_time": "2024-03-26T09:21:37.270358",
     "status": "completed"
    },
    "tags": []
   },
   "source": [
    "### 2.1 Import libraries"
   ]
  },
  {
   "cell_type": "code",
   "execution_count": 1,
   "id": "a76e77be",
   "metadata": {
    "_cell_guid": "b1076dfc-b9ad-4769-8c92-a6c4dae69d19",
    "_uuid": "8f2839f25d086af736a60e9eeb907d3b93b6e0e5",
    "execution": {
     "iopub.execute_input": "2024-03-26T09:21:37.320858Z",
     "iopub.status.busy": "2024-03-26T09:21:37.320366Z",
     "iopub.status.idle": "2024-03-26T09:21:39.584320Z",
     "shell.execute_reply": "2024-03-26T09:21:39.582984Z"
    },
    "papermill": {
     "duration": 2.285035,
     "end_time": "2024-03-26T09:21:39.587339",
     "exception": false,
     "start_time": "2024-03-26T09:21:37.302304",
     "status": "completed"
    },
    "tags": []
   },
   "outputs": [],
   "source": [
    "# import libraries\n",
    "import numpy as np\n",
    "import pandas as pd\n",
    "import matplotlib.pyplot as plt\n",
    "from scipy import stats\n",
    "\n",
    "%matplotlib inline\n"
   ]
  },
  {
   "cell_type": "markdown",
   "id": "abfafc2d",
   "metadata": {
    "papermill": {
     "duration": 0.015864,
     "end_time": "2024-03-26T09:21:39.617967",
     "exception": false,
     "start_time": "2024-03-26T09:21:39.602103",
     "status": "completed"
    },
    "tags": []
   },
   "source": [
    "### 2.2 Import Dataset"
   ]
  },
  {
   "cell_type": "code",
   "execution_count": 2,
   "id": "3829aed9",
   "metadata": {
    "execution": {
     "iopub.execute_input": "2024-03-26T09:21:39.649817Z",
     "iopub.status.busy": "2024-03-26T09:21:39.649273Z",
     "iopub.status.idle": "2024-03-26T09:21:40.482029Z",
     "shell.execute_reply": "2024-03-26T09:21:40.480527Z"
    },
    "papermill": {
     "duration": 0.852154,
     "end_time": "2024-03-26T09:21:40.484999",
     "exception": false,
     "start_time": "2024-03-26T09:21:39.632845",
     "status": "completed"
    },
    "tags": []
   },
   "outputs": [
    {
     "data": {
      "text/html": [
       "<div>\n",
       "<style scoped>\n",
       "    .dataframe tbody tr th:only-of-type {\n",
       "        vertical-align: middle;\n",
       "    }\n",
       "\n",
       "    .dataframe tbody tr th {\n",
       "        vertical-align: top;\n",
       "    }\n",
       "\n",
       "    .dataframe thead th {\n",
       "        text-align: right;\n",
       "    }\n",
       "</style>\n",
       "<table border=\"1\" class=\"dataframe\">\n",
       "  <thead>\n",
       "    <tr style=\"text-align: right;\">\n",
       "      <th></th>\n",
       "      <th>Unnamed: 0</th>\n",
       "      <th>user id</th>\n",
       "      <th>test group</th>\n",
       "      <th>converted</th>\n",
       "      <th>total ads</th>\n",
       "      <th>most ads day</th>\n",
       "      <th>most ads hour</th>\n",
       "    </tr>\n",
       "  </thead>\n",
       "  <tbody>\n",
       "    <tr>\n",
       "      <th>0</th>\n",
       "      <td>0</td>\n",
       "      <td>1069124</td>\n",
       "      <td>ad</td>\n",
       "      <td>False</td>\n",
       "      <td>130</td>\n",
       "      <td>Monday</td>\n",
       "      <td>20</td>\n",
       "    </tr>\n",
       "    <tr>\n",
       "      <th>1</th>\n",
       "      <td>1</td>\n",
       "      <td>1119715</td>\n",
       "      <td>ad</td>\n",
       "      <td>False</td>\n",
       "      <td>93</td>\n",
       "      <td>Tuesday</td>\n",
       "      <td>22</td>\n",
       "    </tr>\n",
       "    <tr>\n",
       "      <th>2</th>\n",
       "      <td>2</td>\n",
       "      <td>1144181</td>\n",
       "      <td>ad</td>\n",
       "      <td>False</td>\n",
       "      <td>21</td>\n",
       "      <td>Tuesday</td>\n",
       "      <td>18</td>\n",
       "    </tr>\n",
       "    <tr>\n",
       "      <th>3</th>\n",
       "      <td>3</td>\n",
       "      <td>1435133</td>\n",
       "      <td>ad</td>\n",
       "      <td>False</td>\n",
       "      <td>355</td>\n",
       "      <td>Tuesday</td>\n",
       "      <td>10</td>\n",
       "    </tr>\n",
       "    <tr>\n",
       "      <th>4</th>\n",
       "      <td>4</td>\n",
       "      <td>1015700</td>\n",
       "      <td>ad</td>\n",
       "      <td>False</td>\n",
       "      <td>276</td>\n",
       "      <td>Friday</td>\n",
       "      <td>14</td>\n",
       "    </tr>\n",
       "    <tr>\n",
       "      <th>5</th>\n",
       "      <td>5</td>\n",
       "      <td>1137664</td>\n",
       "      <td>ad</td>\n",
       "      <td>False</td>\n",
       "      <td>734</td>\n",
       "      <td>Saturday</td>\n",
       "      <td>10</td>\n",
       "    </tr>\n",
       "    <tr>\n",
       "      <th>6</th>\n",
       "      <td>6</td>\n",
       "      <td>1116205</td>\n",
       "      <td>ad</td>\n",
       "      <td>False</td>\n",
       "      <td>264</td>\n",
       "      <td>Wednesday</td>\n",
       "      <td>13</td>\n",
       "    </tr>\n",
       "    <tr>\n",
       "      <th>7</th>\n",
       "      <td>7</td>\n",
       "      <td>1496843</td>\n",
       "      <td>ad</td>\n",
       "      <td>False</td>\n",
       "      <td>17</td>\n",
       "      <td>Sunday</td>\n",
       "      <td>18</td>\n",
       "    </tr>\n",
       "    <tr>\n",
       "      <th>8</th>\n",
       "      <td>8</td>\n",
       "      <td>1448851</td>\n",
       "      <td>ad</td>\n",
       "      <td>False</td>\n",
       "      <td>21</td>\n",
       "      <td>Tuesday</td>\n",
       "      <td>19</td>\n",
       "    </tr>\n",
       "    <tr>\n",
       "      <th>9</th>\n",
       "      <td>9</td>\n",
       "      <td>1446284</td>\n",
       "      <td>ad</td>\n",
       "      <td>False</td>\n",
       "      <td>142</td>\n",
       "      <td>Monday</td>\n",
       "      <td>14</td>\n",
       "    </tr>\n",
       "  </tbody>\n",
       "</table>\n",
       "</div>"
      ],
      "text/plain": [
       "   Unnamed: 0  user id test group  converted  total ads most ads day  \\\n",
       "0           0  1069124         ad      False        130       Monday   \n",
       "1           1  1119715         ad      False         93      Tuesday   \n",
       "2           2  1144181         ad      False         21      Tuesday   \n",
       "3           3  1435133         ad      False        355      Tuesday   \n",
       "4           4  1015700         ad      False        276       Friday   \n",
       "5           5  1137664         ad      False        734     Saturday   \n",
       "6           6  1116205         ad      False        264    Wednesday   \n",
       "7           7  1496843         ad      False         17       Sunday   \n",
       "8           8  1448851         ad      False         21      Tuesday   \n",
       "9           9  1446284         ad      False        142       Monday   \n",
       "\n",
       "   most ads hour  \n",
       "0             20  \n",
       "1             22  \n",
       "2             18  \n",
       "3             10  \n",
       "4             14  \n",
       "5             10  \n",
       "6             13  \n",
       "7             18  \n",
       "8             19  \n",
       "9             14  "
      ]
     },
     "execution_count": 2,
     "metadata": {},
     "output_type": "execute_result"
    }
   ],
   "source": [
    "df_camp=pd.read_csv(\"/kaggle/input/marketing-ab-testing/marketing_AB.csv\")\n",
    "df_camp.head(10)"
   ]
  },
  {
   "cell_type": "markdown",
   "id": "68c98365",
   "metadata": {
    "papermill": {
     "duration": 0.015714,
     "end_time": "2024-03-26T09:21:40.516404",
     "exception": false,
     "start_time": "2024-03-26T09:21:40.500690",
     "status": "completed"
    },
    "tags": []
   },
   "source": [
    "### 2.3 Data Exploration\n",
    "\n",
    "I remove the first column from the DataFrame as it doesn't contain the data I need. Then, I check the DataFrame's information to understand data types, column names, and dataset size with info() function of python. \n",
    "\n",
    "I used describe() function to show a variety of key stats all at once. we can use the min() and max() functions together to compute the range of our data and mean() and median() to detect outliers."
   ]
  },
  {
   "cell_type": "code",
   "execution_count": 3,
   "id": "7133effd",
   "metadata": {
    "execution": {
     "iopub.execute_input": "2024-03-26T09:21:40.549841Z",
     "iopub.status.busy": "2024-03-26T09:21:40.549393Z",
     "iopub.status.idle": "2024-03-26T09:21:40.727206Z",
     "shell.execute_reply": "2024-03-26T09:21:40.725299Z"
    },
    "papermill": {
     "duration": 0.198614,
     "end_time": "2024-03-26T09:21:40.730323",
     "exception": false,
     "start_time": "2024-03-26T09:21:40.531709",
     "status": "completed"
    },
    "tags": []
   },
   "outputs": [
    {
     "name": "stdout",
     "output_type": "stream",
     "text": [
      "<class 'pandas.core.frame.DataFrame'>\n",
      "RangeIndex: 588101 entries, 0 to 588100\n",
      "Data columns (total 6 columns):\n",
      " #   Column         Non-Null Count   Dtype \n",
      "---  ------         --------------   ----- \n",
      " 0   user id        588101 non-null  int64 \n",
      " 1   test group     588101 non-null  object\n",
      " 2   converted      588101 non-null  bool  \n",
      " 3   total ads      588101 non-null  int64 \n",
      " 4   most ads day   588101 non-null  object\n",
      " 5   most ads hour  588101 non-null  int64 \n",
      "dtypes: bool(1), int64(3), object(2)\n",
      "memory usage: 23.0+ MB\n"
     ]
    }
   ],
   "source": [
    "df_selected=df_camp.drop('Unnamed: 0', axis=1)\n",
    "df_selected.info()"
   ]
  },
  {
   "cell_type": "code",
   "execution_count": 4,
   "id": "2ba1a2bd",
   "metadata": {
    "execution": {
     "iopub.execute_input": "2024-03-26T09:21:40.762861Z",
     "iopub.status.busy": "2024-03-26T09:21:40.762482Z",
     "iopub.status.idle": "2024-03-26T09:21:41.191760Z",
     "shell.execute_reply": "2024-03-26T09:21:41.190388Z"
    },
    "papermill": {
     "duration": 0.449405,
     "end_time": "2024-03-26T09:21:41.195134",
     "exception": false,
     "start_time": "2024-03-26T09:21:40.745729",
     "status": "completed"
    },
    "tags": []
   },
   "outputs": [
    {
     "data": {
      "text/html": [
       "<div>\n",
       "<style scoped>\n",
       "    .dataframe tbody tr th:only-of-type {\n",
       "        vertical-align: middle;\n",
       "    }\n",
       "\n",
       "    .dataframe tbody tr th {\n",
       "        vertical-align: top;\n",
       "    }\n",
       "\n",
       "    .dataframe thead th {\n",
       "        text-align: right;\n",
       "    }\n",
       "</style>\n",
       "<table border=\"1\" class=\"dataframe\">\n",
       "  <thead>\n",
       "    <tr style=\"text-align: right;\">\n",
       "      <th></th>\n",
       "      <th>count</th>\n",
       "      <th>unique</th>\n",
       "      <th>top</th>\n",
       "      <th>freq</th>\n",
       "      <th>mean</th>\n",
       "      <th>std</th>\n",
       "      <th>min</th>\n",
       "      <th>25%</th>\n",
       "      <th>50%</th>\n",
       "      <th>75%</th>\n",
       "      <th>max</th>\n",
       "    </tr>\n",
       "  </thead>\n",
       "  <tbody>\n",
       "    <tr>\n",
       "      <th>user id</th>\n",
       "      <td>588101.0</td>\n",
       "      <td>NaN</td>\n",
       "      <td>NaN</td>\n",
       "      <td>NaN</td>\n",
       "      <td>1310692.215793</td>\n",
       "      <td>202225.983128</td>\n",
       "      <td>900000.0</td>\n",
       "      <td>1143190.0</td>\n",
       "      <td>1313725.0</td>\n",
       "      <td>1484088.0</td>\n",
       "      <td>1654483.0</td>\n",
       "    </tr>\n",
       "    <tr>\n",
       "      <th>test group</th>\n",
       "      <td>588101</td>\n",
       "      <td>2</td>\n",
       "      <td>ad</td>\n",
       "      <td>564577</td>\n",
       "      <td>NaN</td>\n",
       "      <td>NaN</td>\n",
       "      <td>NaN</td>\n",
       "      <td>NaN</td>\n",
       "      <td>NaN</td>\n",
       "      <td>NaN</td>\n",
       "      <td>NaN</td>\n",
       "    </tr>\n",
       "    <tr>\n",
       "      <th>converted</th>\n",
       "      <td>588101</td>\n",
       "      <td>2</td>\n",
       "      <td>False</td>\n",
       "      <td>573258</td>\n",
       "      <td>NaN</td>\n",
       "      <td>NaN</td>\n",
       "      <td>NaN</td>\n",
       "      <td>NaN</td>\n",
       "      <td>NaN</td>\n",
       "      <td>NaN</td>\n",
       "      <td>NaN</td>\n",
       "    </tr>\n",
       "    <tr>\n",
       "      <th>total ads</th>\n",
       "      <td>588101.0</td>\n",
       "      <td>NaN</td>\n",
       "      <td>NaN</td>\n",
       "      <td>NaN</td>\n",
       "      <td>24.820876</td>\n",
       "      <td>43.715181</td>\n",
       "      <td>1.0</td>\n",
       "      <td>4.0</td>\n",
       "      <td>13.0</td>\n",
       "      <td>27.0</td>\n",
       "      <td>2065.0</td>\n",
       "    </tr>\n",
       "    <tr>\n",
       "      <th>most ads day</th>\n",
       "      <td>588101</td>\n",
       "      <td>7</td>\n",
       "      <td>Friday</td>\n",
       "      <td>92608</td>\n",
       "      <td>NaN</td>\n",
       "      <td>NaN</td>\n",
       "      <td>NaN</td>\n",
       "      <td>NaN</td>\n",
       "      <td>NaN</td>\n",
       "      <td>NaN</td>\n",
       "      <td>NaN</td>\n",
       "    </tr>\n",
       "    <tr>\n",
       "      <th>most ads hour</th>\n",
       "      <td>588101.0</td>\n",
       "      <td>NaN</td>\n",
       "      <td>NaN</td>\n",
       "      <td>NaN</td>\n",
       "      <td>14.469061</td>\n",
       "      <td>4.834634</td>\n",
       "      <td>0.0</td>\n",
       "      <td>11.0</td>\n",
       "      <td>14.0</td>\n",
       "      <td>18.0</td>\n",
       "      <td>23.0</td>\n",
       "    </tr>\n",
       "  </tbody>\n",
       "</table>\n",
       "</div>"
      ],
      "text/plain": [
       "                  count unique     top    freq            mean            std  \\\n",
       "user id        588101.0    NaN     NaN     NaN  1310692.215793  202225.983128   \n",
       "test group       588101      2      ad  564577             NaN            NaN   \n",
       "converted        588101      2   False  573258             NaN            NaN   \n",
       "total ads      588101.0    NaN     NaN     NaN       24.820876      43.715181   \n",
       "most ads day     588101      7  Friday   92608             NaN            NaN   \n",
       "most ads hour  588101.0    NaN     NaN     NaN       14.469061       4.834634   \n",
       "\n",
       "                    min        25%        50%        75%        max  \n",
       "user id        900000.0  1143190.0  1313725.0  1484088.0  1654483.0  \n",
       "test group          NaN        NaN        NaN        NaN        NaN  \n",
       "converted           NaN        NaN        NaN        NaN        NaN  \n",
       "total ads           1.0        4.0       13.0       27.0     2065.0  \n",
       "most ads day        NaN        NaN        NaN        NaN        NaN  \n",
       "most ads hour       0.0       11.0       14.0       18.0       23.0  "
      ]
     },
     "execution_count": 4,
     "metadata": {},
     "output_type": "execute_result"
    }
   ],
   "source": [
    "df_selected.describe(include='all').T"
   ]
  },
  {
   "cell_type": "markdown",
   "id": "695e937c",
   "metadata": {
    "papermill": {
     "duration": 0.015546,
     "end_time": "2024-03-26T09:21:41.227905",
     "exception": false,
     "start_time": "2024-03-26T09:21:41.212359",
     "status": "completed"
    },
    "tags": []
   },
   "source": [
    "This table shows the dataset. It has two test groups, with the \"ad\" type being the most frequent. Additionally, there are two converted groups, with \"False\" being the most frequent value."
   ]
  },
  {
   "cell_type": "code",
   "execution_count": 5,
   "id": "4d06cb69",
   "metadata": {
    "execution": {
     "iopub.execute_input": "2024-03-26T09:21:41.261327Z",
     "iopub.status.busy": "2024-03-26T09:21:41.260912Z",
     "iopub.status.idle": "2024-03-26T09:21:41.269720Z",
     "shell.execute_reply": "2024-03-26T09:21:41.268024Z"
    },
    "papermill": {
     "duration": 0.029033,
     "end_time": "2024-03-26T09:21:41.272640",
     "exception": false,
     "start_time": "2024-03-26T09:21:41.243607",
     "status": "completed"
    },
    "tags": []
   },
   "outputs": [
    {
     "data": {
      "text/plain": [
       "(588101, 6)"
      ]
     },
     "execution_count": 5,
     "metadata": {},
     "output_type": "execute_result"
    }
   ],
   "source": [
    "df_selected.shape"
   ]
  },
  {
   "cell_type": "markdown",
   "id": "61e0ff7d",
   "metadata": {
    "papermill": {
     "duration": 0.015417,
     "end_time": "2024-03-26T09:21:41.303926",
     "exception": false,
     "start_time": "2024-03-26T09:21:41.288509",
     "status": "completed"
    },
    "tags": []
   },
   "source": [
    "Dataset has 588101 rows and 6 columns"
   ]
  },
  {
   "cell_type": "code",
   "execution_count": 6,
   "id": "0e796c2c",
   "metadata": {
    "execution": {
     "iopub.execute_input": "2024-03-26T09:21:41.338237Z",
     "iopub.status.busy": "2024-03-26T09:21:41.337444Z",
     "iopub.status.idle": "2024-03-26T09:21:41.497502Z",
     "shell.execute_reply": "2024-03-26T09:21:41.496048Z"
    },
    "papermill": {
     "duration": 0.180999,
     "end_time": "2024-03-26T09:21:41.500694",
     "exception": false,
     "start_time": "2024-03-26T09:21:41.319695",
     "status": "completed"
    },
    "tags": []
   },
   "outputs": [
    {
     "data": {
      "text/plain": [
       "user id          588101\n",
       "test group            2\n",
       "converted             2\n",
       "total ads           807\n",
       "most ads day          7\n",
       "most ads hour        24\n",
       "dtype: int64"
      ]
     },
     "execution_count": 6,
     "metadata": {},
     "output_type": "execute_result"
    }
   ],
   "source": [
    "df_selected.nunique()"
   ]
  },
  {
   "cell_type": "markdown",
   "id": "13f9bc4d",
   "metadata": {
    "papermill": {
     "duration": 0.015998,
     "end_time": "2024-03-26T09:21:41.532572",
     "exception": false,
     "start_time": "2024-03-26T09:21:41.516574",
     "status": "completed"
    },
    "tags": []
   },
   "source": [
    "It has each row for each customers, because number of unique of user_id is equal with number of row.\n"
   ]
  },
  {
   "cell_type": "code",
   "execution_count": 7,
   "id": "3cb0bf0e",
   "metadata": {
    "execution": {
     "iopub.execute_input": "2024-03-26T09:21:41.567961Z",
     "iopub.status.busy": "2024-03-26T09:21:41.567164Z",
     "iopub.status.idle": "2024-03-26T09:21:41.704040Z",
     "shell.execute_reply": "2024-03-26T09:21:41.702784Z"
    },
    "papermill": {
     "duration": 0.157898,
     "end_time": "2024-03-26T09:21:41.706848",
     "exception": false,
     "start_time": "2024-03-26T09:21:41.548950",
     "status": "completed"
    },
    "tags": []
   },
   "outputs": [
    {
     "data": {
      "text/plain": [
       "user id          0\n",
       "test group       0\n",
       "converted        0\n",
       "total ads        0\n",
       "most ads day     0\n",
       "most ads hour    0\n",
       "dtype: int64"
      ]
     },
     "execution_count": 7,
     "metadata": {},
     "output_type": "execute_result"
    }
   ],
   "source": [
    "df_selected.isnull().sum()"
   ]
  },
  {
   "cell_type": "markdown",
   "id": "62aaa700",
   "metadata": {
    "papermill": {
     "duration": 0.016554,
     "end_time": "2024-03-26T09:21:41.739477",
     "exception": false,
     "start_time": "2024-03-26T09:21:41.722923",
     "status": "completed"
    },
    "tags": []
   },
   "source": [
    "It dose not have null value."
   ]
  },
  {
   "cell_type": "code",
   "execution_count": 8,
   "id": "1db9e932",
   "metadata": {
    "execution": {
     "iopub.execute_input": "2024-03-26T09:21:41.775182Z",
     "iopub.status.busy": "2024-03-26T09:21:41.774618Z",
     "iopub.status.idle": "2024-03-26T09:21:41.985634Z",
     "shell.execute_reply": "2024-03-26T09:21:41.984223Z"
    },
    "papermill": {
     "duration": 0.232223,
     "end_time": "2024-03-26T09:21:41.988711",
     "exception": false,
     "start_time": "2024-03-26T09:21:41.756488",
     "status": "completed"
    },
    "tags": []
   },
   "outputs": [
    {
     "data": {
      "text/plain": [
       "0"
      ]
     },
     "execution_count": 8,
     "metadata": {},
     "output_type": "execute_result"
    }
   ],
   "source": [
    "# check duplicate value.\n",
    "df_selected.duplicated().sum()"
   ]
  },
  {
   "cell_type": "code",
   "execution_count": 9,
   "id": "b4c4c92a",
   "metadata": {
    "execution": {
     "iopub.execute_input": "2024-03-26T09:21:42.025720Z",
     "iopub.status.busy": "2024-03-26T09:21:42.024914Z",
     "iopub.status.idle": "2024-03-26T09:21:42.055315Z",
     "shell.execute_reply": "2024-03-26T09:21:42.054219Z"
    },
    "papermill": {
     "duration": 0.053347,
     "end_time": "2024-03-26T09:21:42.059168",
     "exception": false,
     "start_time": "2024-03-26T09:21:42.005821",
     "status": "completed"
    },
    "tags": []
   },
   "outputs": [
    {
     "data": {
      "text/plain": [
       "user id          0\n",
       "test group       0\n",
       "converted        0\n",
       "total ads        0\n",
       "most ads day     0\n",
       "most ads hour    0\n",
       "dtype: int64"
      ]
     },
     "execution_count": 9,
     "metadata": {},
     "output_type": "execute_result"
    }
   ],
   "source": [
    "df_selected[df_selected[\"user id\"].duplicated()].count()"
   ]
  },
  {
   "cell_type": "markdown",
   "id": "645a962c",
   "metadata": {
    "papermill": {
     "duration": 0.017028,
     "end_time": "2024-03-26T09:21:42.092613",
     "exception": false,
     "start_time": "2024-03-26T09:21:42.075585",
     "status": "completed"
    },
    "tags": []
   },
   "source": [
    "It dose not have duplicat value."
   ]
  },
  {
   "cell_type": "code",
   "execution_count": 10,
   "id": "09739253",
   "metadata": {
    "execution": {
     "iopub.execute_input": "2024-03-26T09:21:42.128594Z",
     "iopub.status.busy": "2024-03-26T09:21:42.127447Z",
     "iopub.status.idle": "2024-03-26T09:21:42.181330Z",
     "shell.execute_reply": "2024-03-26T09:21:42.180113Z"
    },
    "papermill": {
     "duration": 0.074513,
     "end_time": "2024-03-26T09:21:42.183900",
     "exception": false,
     "start_time": "2024-03-26T09:21:42.109387",
     "status": "completed"
    },
    "tags": []
   },
   "outputs": [
    {
     "data": {
      "text/plain": [
       "array(['ad', 'psa'], dtype=object)"
      ]
     },
     "execution_count": 10,
     "metadata": {},
     "output_type": "execute_result"
    }
   ],
   "source": [
    "# show two group names.\n",
    "df_selected['test group'].unique()"
   ]
  },
  {
   "cell_type": "code",
   "execution_count": 11,
   "id": "2ade4f46",
   "metadata": {
    "execution": {
     "iopub.execute_input": "2024-03-26T09:21:42.219519Z",
     "iopub.status.busy": "2024-03-26T09:21:42.218400Z",
     "iopub.status.idle": "2024-03-26T09:21:42.230350Z",
     "shell.execute_reply": "2024-03-26T09:21:42.228822Z"
    },
    "papermill": {
     "duration": 0.032608,
     "end_time": "2024-03-26T09:21:42.232925",
     "exception": false,
     "start_time": "2024-03-26T09:21:42.200317",
     "status": "completed"
    },
    "tags": []
   },
   "outputs": [
    {
     "data": {
      "text/plain": [
       "array([False,  True])"
      ]
     },
     "execution_count": 11,
     "metadata": {},
     "output_type": "execute_result"
    }
   ],
   "source": [
    "# show two converted value.\n",
    "df_selected['converted'].unique()"
   ]
  },
  {
   "cell_type": "markdown",
   "id": "ef3ab602",
   "metadata": {
    "papermill": {
     "duration": 0.016544,
     "end_time": "2024-03-26T09:21:42.266705",
     "exception": false,
     "start_time": "2024-03-26T09:21:42.250161",
     "status": "completed"
    },
    "tags": []
   },
   "source": [
    "`True` = bought \n",
    "\n",
    "`False` = didn't buy"
   ]
  },
  {
   "cell_type": "code",
   "execution_count": 12,
   "id": "fac92d59",
   "metadata": {
    "execution": {
     "iopub.execute_input": "2024-03-26T09:21:42.365817Z",
     "iopub.status.busy": "2024-03-26T09:21:42.365035Z",
     "iopub.status.idle": "2024-03-26T09:21:42.422665Z",
     "shell.execute_reply": "2024-03-26T09:21:42.421549Z"
    },
    "papermill": {
     "duration": 0.079888,
     "end_time": "2024-03-26T09:21:42.425940",
     "exception": false,
     "start_time": "2024-03-26T09:21:42.346052",
     "status": "completed"
    },
    "tags": []
   },
   "outputs": [
    {
     "data": {
      "text/plain": [
       "['Friday', 'Monday', 'Saturday', 'Sunday', 'Thursday', 'Tuesday', 'Wednesday']"
      ]
     },
     "execution_count": 12,
     "metadata": {},
     "output_type": "execute_result"
    }
   ],
   "source": [
    "# Days of running campaign\n",
    "sorted(df_selected['most ads day'].unique())"
   ]
  },
  {
   "cell_type": "code",
   "execution_count": 13,
   "id": "d012147b",
   "metadata": {
    "execution": {
     "iopub.execute_input": "2024-03-26T09:21:42.462210Z",
     "iopub.status.busy": "2024-03-26T09:21:42.461744Z",
     "iopub.status.idle": "2024-03-26T09:21:42.472077Z",
     "shell.execute_reply": "2024-03-26T09:21:42.471211Z"
    },
    "papermill": {
     "duration": 0.031578,
     "end_time": "2024-03-26T09:21:42.474536",
     "exception": false,
     "start_time": "2024-03-26T09:21:42.442958",
     "status": "completed"
    },
    "tags": []
   },
   "outputs": [
    {
     "data": {
      "text/plain": [
       "array([ 0,  1,  2,  3,  4,  5,  6,  7,  8,  9, 10, 11, 12, 13, 14, 15, 16,\n",
       "       17, 18, 19, 20, 21, 22, 23])"
      ]
     },
     "execution_count": 13,
     "metadata": {},
     "output_type": "execute_result"
    }
   ],
   "source": [
    "# Days of running campaign\n",
    "np.array(sorted(df_selected['most ads hour'].unique()))"
   ]
  },
  {
   "cell_type": "markdown",
   "id": "68acf9f8",
   "metadata": {
    "papermill": {
     "duration": 0.017207,
     "end_time": "2024-03-26T09:21:42.508979",
     "exception": false,
     "start_time": "2024-03-26T09:21:42.491772",
     "status": "completed"
    },
    "tags": []
   },
   "source": [
    "The campaign targeted all days of the week and did not restrict impressions by time of day. Ads were shown 24/7."
   ]
  },
  {
   "cell_type": "code",
   "execution_count": 14,
   "id": "8e0d9666",
   "metadata": {
    "execution": {
     "iopub.execute_input": "2024-03-26T09:21:42.545787Z",
     "iopub.status.busy": "2024-03-26T09:21:42.544553Z",
     "iopub.status.idle": "2024-03-26T09:21:42.654104Z",
     "shell.execute_reply": "2024-03-26T09:21:42.652799Z"
    },
    "papermill": {
     "duration": 0.13051,
     "end_time": "2024-03-26T09:21:42.656568",
     "exception": false,
     "start_time": "2024-03-26T09:21:42.526058",
     "status": "completed"
    },
    "tags": []
   },
   "outputs": [
    {
     "data": {
      "text/plain": [
       "test group\n",
       "ad     564577\n",
       "psa     23524\n",
       "Name: count, dtype: int64"
      ]
     },
     "execution_count": 14,
     "metadata": {},
     "output_type": "execute_result"
    }
   ],
   "source": [
    "df_selected['test group'].value_counts()"
   ]
  },
  {
   "cell_type": "code",
   "execution_count": 15,
   "id": "15dc512e",
   "metadata": {
    "execution": {
     "iopub.execute_input": "2024-03-26T09:21:42.693085Z",
     "iopub.status.busy": "2024-03-26T09:21:42.692701Z",
     "iopub.status.idle": "2024-03-26T09:21:42.802498Z",
     "shell.execute_reply": "2024-03-26T09:21:42.801214Z"
    },
    "papermill": {
     "duration": 0.131201,
     "end_time": "2024-03-26T09:21:42.805093",
     "exception": false,
     "start_time": "2024-03-26T09:21:42.673892",
     "status": "completed"
    },
    "tags": []
   },
   "outputs": [
    {
     "data": {
      "text/plain": [
       "test group\n",
       "ad     0.96\n",
       "psa    0.04\n",
       "Name: proportion, dtype: float64"
      ]
     },
     "execution_count": 15,
     "metadata": {},
     "output_type": "execute_result"
    }
   ],
   "source": [
    "df_selected['test group'].value_counts(normalize=True)"
   ]
  },
  {
   "cell_type": "markdown",
   "id": "6add6bb8",
   "metadata": {
    "papermill": {
     "duration": 0.017476,
     "end_time": "2024-03-26T09:21:42.840447",
     "exception": false,
     "start_time": "2024-03-26T09:21:42.822971",
     "status": "completed"
    },
    "tags": []
   },
   "source": [
    "A large group of participants was selected for the experimental group, while a smaller group served as the control group,  4% of participants were assigned to the control group (seeing a PSA), and the remaining 96% were in the experimental group (exposed to the ad). "
   ]
  },
  {
   "cell_type": "code",
   "execution_count": 16,
   "id": "2f9a29a7",
   "metadata": {
    "execution": {
     "iopub.execute_input": "2024-03-26T09:21:42.878807Z",
     "iopub.status.busy": "2024-03-26T09:21:42.878418Z",
     "iopub.status.idle": "2024-03-26T09:21:42.891555Z",
     "shell.execute_reply": "2024-03-26T09:21:42.890074Z"
    },
    "papermill": {
     "duration": 0.036118,
     "end_time": "2024-03-26T09:21:42.894166",
     "exception": false,
     "start_time": "2024-03-26T09:21:42.858048",
     "status": "completed"
    },
    "tags": []
   },
   "outputs": [
    {
     "data": {
      "text/plain": [
       "converted\n",
       "False    573258\n",
       "True      14843\n",
       "Name: count, dtype: int64"
      ]
     },
     "execution_count": 16,
     "metadata": {},
     "output_type": "execute_result"
    }
   ],
   "source": [
    "df_selected['converted'].value_counts()"
   ]
  },
  {
   "cell_type": "code",
   "execution_count": 17,
   "id": "ecf627f7",
   "metadata": {
    "execution": {
     "iopub.execute_input": "2024-03-26T09:21:42.931567Z",
     "iopub.status.busy": "2024-03-26T09:21:42.931172Z",
     "iopub.status.idle": "2024-03-26T09:21:42.944760Z",
     "shell.execute_reply": "2024-03-26T09:21:42.943383Z"
    },
    "papermill": {
     "duration": 0.035482,
     "end_time": "2024-03-26T09:21:42.947648",
     "exception": false,
     "start_time": "2024-03-26T09:21:42.912166",
     "status": "completed"
    },
    "tags": []
   },
   "outputs": [
    {
     "data": {
      "text/plain": [
       "converted\n",
       "False    0.974761\n",
       "True     0.025239\n",
       "Name: proportion, dtype: float64"
      ]
     },
     "execution_count": 17,
     "metadata": {},
     "output_type": "execute_result"
    }
   ],
   "source": [
    "df_selected['converted'].value_counts(normalize=True)"
   ]
  },
  {
   "cell_type": "markdown",
   "id": "c25d4315",
   "metadata": {
    "papermill": {
     "duration": 0.017603,
     "end_time": "2024-03-26T09:21:42.983198",
     "exception": false,
     "start_time": "2024-03-26T09:21:42.965595",
     "status": "completed"
    },
    "tags": []
   },
   "source": [
    "Interestingly, the data shows that only 3% of the population has already purchased from the company, with  97% not making a purchase. However, it's important to note that this doesn't necessarily reflect the effectiveness of the advertising campaign yet.\n"
   ]
  },
  {
   "cell_type": "code",
   "execution_count": 18,
   "id": "14e1ce26",
   "metadata": {
    "execution": {
     "iopub.execute_input": "2024-03-26T09:21:43.022046Z",
     "iopub.status.busy": "2024-03-26T09:21:43.021616Z",
     "iopub.status.idle": "2024-03-26T09:21:43.118846Z",
     "shell.execute_reply": "2024-03-26T09:21:43.117780Z"
    },
    "papermill": {
     "duration": 0.120423,
     "end_time": "2024-03-26T09:21:43.122032",
     "exception": false,
     "start_time": "2024-03-26T09:21:43.001609",
     "status": "completed"
    },
    "tags": []
   },
   "outputs": [
    {
     "data": {
      "text/plain": [
       "test group  converted\n",
       "ad          False        550154\n",
       "            True          14423\n",
       "psa         False         23104\n",
       "            True            420\n",
       "Name: count, dtype: int64"
      ]
     },
     "execution_count": 18,
     "metadata": {},
     "output_type": "execute_result"
    }
   ],
   "source": [
    "df_selected.groupby('test group')['converted'].value_counts()"
   ]
  },
  {
   "cell_type": "code",
   "execution_count": 19,
   "id": "7d94a122",
   "metadata": {
    "execution": {
     "iopub.execute_input": "2024-03-26T09:21:43.161676Z",
     "iopub.status.busy": "2024-03-26T09:21:43.161069Z",
     "iopub.status.idle": "2024-03-26T09:21:43.261737Z",
     "shell.execute_reply": "2024-03-26T09:21:43.260531Z"
    },
    "papermill": {
     "duration": 0.123437,
     "end_time": "2024-03-26T09:21:43.264257",
     "exception": false,
     "start_time": "2024-03-26T09:21:43.140820",
     "status": "completed"
    },
    "tags": []
   },
   "outputs": [
    {
     "data": {
      "text/plain": [
       "test group  converted\n",
       "ad          False        0.974453\n",
       "            True         0.025547\n",
       "psa         False        0.982146\n",
       "            True         0.017854\n",
       "Name: proportion, dtype: float64"
      ]
     },
     "execution_count": 19,
     "metadata": {},
     "output_type": "execute_result"
    }
   ],
   "source": [
    "df_selected.groupby('test group')['converted'].value_counts(normalize=True)"
   ]
  },
  {
   "cell_type": "markdown",
   "id": "22d2e969",
   "metadata": {
    "papermill": {
     "duration": 0.018671,
     "end_time": "2024-03-26T09:21:43.302665",
     "exception": false,
     "start_time": "2024-03-26T09:21:43.283994",
     "status": "completed"
    },
    "tags": []
   },
   "source": [
    "By grouping the data by \"test group\" and analyzing purchase rates, I observed a difference between the two groups, suggesting a potential effect from the campaign. This difference in purchase rates is nearest 1%, which may seem small, but in a large dataset, even small differences can be statistically significant. To confirm this and quantify the effect size, I'll proceed with a hypothesis test."
   ]
  },
  {
   "cell_type": "markdown",
   "id": "92da7f46",
   "metadata": {
    "papermill": {
     "duration": 0.017856,
     "end_time": "2024-03-26T09:21:43.339638",
     "exception": false,
     "start_time": "2024-03-26T09:21:43.321782",
     "status": "completed"
    },
    "tags": []
   },
   "source": [
    "## 3. Conduct a hypothesis A/B testing (T-test )\n",
    "I want to answer this question: \"Will the advertising campaign be successful?\"\n",
    "\n",
    "To assess this, I'll compare conversion rates (bought/not bought) between the two test groups (ad and psa). Since we have two independent groups, we can use a two-sample hypothesis test.\n",
    "\n",
    "### 3.1 Explore the data\n",
    "To start, I filtered all data frame into two dataframe 'ad' and 'psa' group. And I computed mean of two groups."
   ]
  },
  {
   "cell_type": "code",
   "execution_count": 20,
   "id": "fb4f4357",
   "metadata": {
    "execution": {
     "iopub.execute_input": "2024-03-26T09:21:43.379860Z",
     "iopub.status.busy": "2024-03-26T09:21:43.378590Z",
     "iopub.status.idle": "2024-03-26T09:21:43.653454Z",
     "shell.execute_reply": "2024-03-26T09:21:43.652409Z"
    },
    "papermill": {
     "duration": 0.297977,
     "end_time": "2024-03-26T09:21:43.656208",
     "exception": false,
     "start_time": "2024-03-26T09:21:43.358231",
     "status": "completed"
    },
    "tags": []
   },
   "outputs": [],
   "source": [
    "group_ad=df_selected[df_selected['test group']=='ad']\n",
    "group_psa=df_selected[df_selected['test group']=='psa']"
   ]
  },
  {
   "cell_type": "markdown",
   "id": "c61179b2",
   "metadata": {
    "papermill": {
     "duration": 0.017746,
     "end_time": "2024-03-26T09:21:43.692298",
     "exception": false,
     "start_time": "2024-03-26T09:21:43.674552",
     "status": "completed"
    },
    "tags": []
   },
   "source": [
    "I calculated mean of `converted` of population for each group."
   ]
  },
  {
   "cell_type": "code",
   "execution_count": 21,
   "id": "62ff2bf8",
   "metadata": {
    "execution": {
     "iopub.execute_input": "2024-03-26T09:21:43.732256Z",
     "iopub.status.busy": "2024-03-26T09:21:43.731382Z",
     "iopub.status.idle": "2024-03-26T09:21:43.739976Z",
     "shell.execute_reply": "2024-03-26T09:21:43.738763Z"
    },
    "papermill": {
     "duration": 0.031892,
     "end_time": "2024-03-26T09:21:43.742599",
     "exception": false,
     "start_time": "2024-03-26T09:21:43.710707",
     "status": "completed"
    },
    "tags": []
   },
   "outputs": [
    {
     "data": {
      "text/plain": [
       "0.025546559636683747"
      ]
     },
     "execution_count": 21,
     "metadata": {},
     "output_type": "execute_result"
    }
   ],
   "source": [
    "group_ad['converted'].mean()"
   ]
  },
  {
   "cell_type": "code",
   "execution_count": 22,
   "id": "9c4c7181",
   "metadata": {
    "execution": {
     "iopub.execute_input": "2024-03-26T09:21:43.782893Z",
     "iopub.status.busy": "2024-03-26T09:21:43.782062Z",
     "iopub.status.idle": "2024-03-26T09:21:43.790149Z",
     "shell.execute_reply": "2024-03-26T09:21:43.788915Z"
    },
    "papermill": {
     "duration": 0.031058,
     "end_time": "2024-03-26T09:21:43.792674",
     "exception": false,
     "start_time": "2024-03-26T09:21:43.761616",
     "status": "completed"
    },
    "tags": []
   },
   "outputs": [
    {
     "data": {
      "text/plain": [
       "0.01785410644448223"
      ]
     },
     "execution_count": 22,
     "metadata": {},
     "output_type": "execute_result"
    }
   ],
   "source": [
    "group_psa['converted'].mean()"
   ]
  },
  {
   "cell_type": "markdown",
   "id": "42193d84",
   "metadata": {
    "papermill": {
     "duration": 0.019513,
     "end_time": "2024-03-26T09:21:43.831161",
     "exception": false,
     "start_time": "2024-03-26T09:21:43.811648",
     "status": "completed"
    },
    "tags": []
   },
   "source": [
    "### 3.2 Apply the central limit theorem for random sampling\n",
    "I repeated the earlier sample with replacement 10,000 times and obtaining 10,000 point estimates of the mean. Next,I created a new DataFrame from the list of 10,000 estimates. Name the new variable. I computed the mean() of the sampling distribution of 10,000 random samples."
   ]
  },
  {
   "cell_type": "code",
   "execution_count": 23,
   "id": "c29c9a6b",
   "metadata": {
    "execution": {
     "iopub.execute_input": "2024-03-26T09:21:43.874072Z",
     "iopub.status.busy": "2024-03-26T09:21:43.873280Z",
     "iopub.status.idle": "2024-03-26T09:21:48.370474Z",
     "shell.execute_reply": "2024-03-26T09:21:48.369243Z"
    },
    "papermill": {
     "duration": 4.523996,
     "end_time": "2024-03-26T09:21:48.373519",
     "exception": false,
     "start_time": "2024-03-26T09:21:43.849523",
     "status": "completed"
    },
    "tags": []
   },
   "outputs": [],
   "source": [
    "estimate_list_ad = []\n",
    "for i in range(10000):\n",
    "    estimate_list_ad.append(group_ad['converted'].sample(n=5000,replace=True).mean())"
   ]
  },
  {
   "cell_type": "code",
   "execution_count": 24,
   "id": "c02360cd",
   "metadata": {
    "execution": {
     "iopub.execute_input": "2024-03-26T09:21:48.413768Z",
     "iopub.status.busy": "2024-03-26T09:21:48.413367Z",
     "iopub.status.idle": "2024-03-26T09:21:48.429929Z",
     "shell.execute_reply": "2024-03-26T09:21:48.429052Z"
    },
    "papermill": {
     "duration": 0.039962,
     "end_time": "2024-03-26T09:21:48.432548",
     "exception": false,
     "start_time": "2024-03-26T09:21:48.392586",
     "status": "completed"
    },
    "tags": []
   },
   "outputs": [
    {
     "data": {
      "text/html": [
       "<div>\n",
       "<style scoped>\n",
       "    .dataframe tbody tr th:only-of-type {\n",
       "        vertical-align: middle;\n",
       "    }\n",
       "\n",
       "    .dataframe tbody tr th {\n",
       "        vertical-align: top;\n",
       "    }\n",
       "\n",
       "    .dataframe thead th {\n",
       "        text-align: right;\n",
       "    }\n",
       "</style>\n",
       "<table border=\"1\" class=\"dataframe\">\n",
       "  <thead>\n",
       "    <tr style=\"text-align: right;\">\n",
       "      <th></th>\n",
       "      <th>estimate</th>\n",
       "    </tr>\n",
       "  </thead>\n",
       "  <tbody>\n",
       "    <tr>\n",
       "      <th>0</th>\n",
       "      <td>0.0242</td>\n",
       "    </tr>\n",
       "    <tr>\n",
       "      <th>1</th>\n",
       "      <td>0.0236</td>\n",
       "    </tr>\n",
       "    <tr>\n",
       "      <th>2</th>\n",
       "      <td>0.0218</td>\n",
       "    </tr>\n",
       "    <tr>\n",
       "      <th>3</th>\n",
       "      <td>0.0220</td>\n",
       "    </tr>\n",
       "    <tr>\n",
       "      <th>4</th>\n",
       "      <td>0.0244</td>\n",
       "    </tr>\n",
       "    <tr>\n",
       "      <th>...</th>\n",
       "      <td>...</td>\n",
       "    </tr>\n",
       "    <tr>\n",
       "      <th>9995</th>\n",
       "      <td>0.0326</td>\n",
       "    </tr>\n",
       "    <tr>\n",
       "      <th>9996</th>\n",
       "      <td>0.0254</td>\n",
       "    </tr>\n",
       "    <tr>\n",
       "      <th>9997</th>\n",
       "      <td>0.0224</td>\n",
       "    </tr>\n",
       "    <tr>\n",
       "      <th>9998</th>\n",
       "      <td>0.0234</td>\n",
       "    </tr>\n",
       "    <tr>\n",
       "      <th>9999</th>\n",
       "      <td>0.0238</td>\n",
       "    </tr>\n",
       "  </tbody>\n",
       "</table>\n",
       "<p>10000 rows × 1 columns</p>\n",
       "</div>"
      ],
      "text/plain": [
       "      estimate\n",
       "0       0.0242\n",
       "1       0.0236\n",
       "2       0.0218\n",
       "3       0.0220\n",
       "4       0.0244\n",
       "...        ...\n",
       "9995    0.0326\n",
       "9996    0.0254\n",
       "9997    0.0224\n",
       "9998    0.0234\n",
       "9999    0.0238\n",
       "\n",
       "[10000 rows x 1 columns]"
      ]
     },
     "execution_count": 24,
     "metadata": {},
     "output_type": "execute_result"
    }
   ],
   "source": [
    "estimate_df_ad = pd.DataFrame(data={'estimate': estimate_list_ad})\n",
    "estimate_df_ad"
   ]
  },
  {
   "cell_type": "code",
   "execution_count": 25,
   "id": "3b775559",
   "metadata": {
    "execution": {
     "iopub.execute_input": "2024-03-26T09:21:48.472532Z",
     "iopub.status.busy": "2024-03-26T09:21:48.472074Z",
     "iopub.status.idle": "2024-03-26T09:21:51.553894Z",
     "shell.execute_reply": "2024-03-26T09:21:51.552325Z"
    },
    "papermill": {
     "duration": 3.105815,
     "end_time": "2024-03-26T09:21:51.557094",
     "exception": false,
     "start_time": "2024-03-26T09:21:48.451279",
     "status": "completed"
    },
    "tags": []
   },
   "outputs": [],
   "source": [
    "estimate_list_psa = []\n",
    "for i in range(10000):\n",
    "    estimate_list_psa.append(group_psa['converted'].sample(n=5000,replace=True).mean())"
   ]
  },
  {
   "cell_type": "code",
   "execution_count": 26,
   "id": "5b81ff29",
   "metadata": {
    "execution": {
     "iopub.execute_input": "2024-03-26T09:21:51.597794Z",
     "iopub.status.busy": "2024-03-26T09:21:51.596727Z",
     "iopub.status.idle": "2024-03-26T09:21:51.613380Z",
     "shell.execute_reply": "2024-03-26T09:21:51.612188Z"
    },
    "papermill": {
     "duration": 0.03966,
     "end_time": "2024-03-26T09:21:51.615944",
     "exception": false,
     "start_time": "2024-03-26T09:21:51.576284",
     "status": "completed"
    },
    "tags": []
   },
   "outputs": [
    {
     "data": {
      "text/html": [
       "<div>\n",
       "<style scoped>\n",
       "    .dataframe tbody tr th:only-of-type {\n",
       "        vertical-align: middle;\n",
       "    }\n",
       "\n",
       "    .dataframe tbody tr th {\n",
       "        vertical-align: top;\n",
       "    }\n",
       "\n",
       "    .dataframe thead th {\n",
       "        text-align: right;\n",
       "    }\n",
       "</style>\n",
       "<table border=\"1\" class=\"dataframe\">\n",
       "  <thead>\n",
       "    <tr style=\"text-align: right;\">\n",
       "      <th></th>\n",
       "      <th>estimate</th>\n",
       "    </tr>\n",
       "  </thead>\n",
       "  <tbody>\n",
       "    <tr>\n",
       "      <th>0</th>\n",
       "      <td>0.0168</td>\n",
       "    </tr>\n",
       "    <tr>\n",
       "      <th>1</th>\n",
       "      <td>0.0198</td>\n",
       "    </tr>\n",
       "    <tr>\n",
       "      <th>2</th>\n",
       "      <td>0.0156</td>\n",
       "    </tr>\n",
       "    <tr>\n",
       "      <th>3</th>\n",
       "      <td>0.0196</td>\n",
       "    </tr>\n",
       "    <tr>\n",
       "      <th>4</th>\n",
       "      <td>0.0178</td>\n",
       "    </tr>\n",
       "    <tr>\n",
       "      <th>...</th>\n",
       "      <td>...</td>\n",
       "    </tr>\n",
       "    <tr>\n",
       "      <th>9995</th>\n",
       "      <td>0.0180</td>\n",
       "    </tr>\n",
       "    <tr>\n",
       "      <th>9996</th>\n",
       "      <td>0.0150</td>\n",
       "    </tr>\n",
       "    <tr>\n",
       "      <th>9997</th>\n",
       "      <td>0.0178</td>\n",
       "    </tr>\n",
       "    <tr>\n",
       "      <th>9998</th>\n",
       "      <td>0.0196</td>\n",
       "    </tr>\n",
       "    <tr>\n",
       "      <th>9999</th>\n",
       "      <td>0.0202</td>\n",
       "    </tr>\n",
       "  </tbody>\n",
       "</table>\n",
       "<p>10000 rows × 1 columns</p>\n",
       "</div>"
      ],
      "text/plain": [
       "      estimate\n",
       "0       0.0168\n",
       "1       0.0198\n",
       "2       0.0156\n",
       "3       0.0196\n",
       "4       0.0178\n",
       "...        ...\n",
       "9995    0.0180\n",
       "9996    0.0150\n",
       "9997    0.0178\n",
       "9998    0.0196\n",
       "9999    0.0202\n",
       "\n",
       "[10000 rows x 1 columns]"
      ]
     },
     "execution_count": 26,
     "metadata": {},
     "output_type": "execute_result"
    }
   ],
   "source": [
    "estimate_df_psa = pd.DataFrame(data={'estimate': estimate_list_psa})\n",
    "estimate_df_psa"
   ]
  },
  {
   "cell_type": "code",
   "execution_count": 27,
   "id": "9dc83635",
   "metadata": {
    "execution": {
     "iopub.execute_input": "2024-03-26T09:21:51.657180Z",
     "iopub.status.busy": "2024-03-26T09:21:51.656379Z",
     "iopub.status.idle": "2024-03-26T09:21:51.666133Z",
     "shell.execute_reply": "2024-03-26T09:21:51.664677Z"
    },
    "papermill": {
     "duration": 0.0336,
     "end_time": "2024-03-26T09:21:51.669049",
     "exception": false,
     "start_time": "2024-03-26T09:21:51.635449",
     "status": "completed"
    },
    "tags": []
   },
   "outputs": [
    {
     "data": {
      "text/plain": [
       "estimate    0.025566\n",
       "dtype: float64"
      ]
     },
     "execution_count": 27,
     "metadata": {},
     "output_type": "execute_result"
    }
   ],
   "source": [
    "estimate_df_ad.mean()"
   ]
  },
  {
   "cell_type": "code",
   "execution_count": 28,
   "id": "85a7f746",
   "metadata": {
    "execution": {
     "iopub.execute_input": "2024-03-26T09:21:51.711216Z",
     "iopub.status.busy": "2024-03-26T09:21:51.710803Z",
     "iopub.status.idle": "2024-03-26T09:21:51.718776Z",
     "shell.execute_reply": "2024-03-26T09:21:51.717811Z"
    },
    "papermill": {
     "duration": 0.032888,
     "end_time": "2024-03-26T09:21:51.721252",
     "exception": false,
     "start_time": "2024-03-26T09:21:51.688364",
     "status": "completed"
    },
    "tags": []
   },
   "outputs": [
    {
     "data": {
      "text/plain": [
       "estimate    0.017862\n",
       "dtype: float64"
      ]
     },
     "execution_count": 28,
     "metadata": {},
     "output_type": "execute_result"
    }
   ],
   "source": [
    "estimate_df_psa.mean()"
   ]
  },
  {
   "cell_type": "markdown",
   "id": "2be59eeb",
   "metadata": {
    "papermill": {
     "duration": 0.019035,
     "end_time": "2024-03-26T09:21:51.759560",
     "exception": false,
     "start_time": "2024-03-26T09:21:51.740525",
     "status": "completed"
    },
    "tags": []
   },
   "source": [
    "The central limit theorem assures us that, even if the original data isn't normally distributed, the means of sufficiently large samples will be approximately normally distributed around the population mean. \n",
    "According to the central limit theorem, the mean of the preceding sampling distribution should be roughly equal to the population mean.\n",
    "\n",
    "This is evident here, as the sample means for the 'ad' group (0.025547) and the 'psa' group (0.017874) are very close to the population means (ad='0.025546559636683747' and psd = '0.01785410644448223'). \n",
    "\n",
    "Because of this, I can confidently use these samples in our t-test."
   ]
  },
  {
   "cell_type": "markdown",
   "id": "afec78c8",
   "metadata": {
    "papermill": {
     "duration": 0.019885,
     "end_time": "2024-03-26T09:21:51.799175",
     "exception": false,
     "start_time": "2024-03-26T09:21:51.779290",
     "status": "completed"
    },
    "tags": []
   },
   "source": [
    "### 3.3 Output the sampling distribution using a histogram\n",
    "I visualized estimate sampling distribution for two groups."
   ]
  },
  {
   "cell_type": "code",
   "execution_count": 29,
   "id": "da988f38",
   "metadata": {
    "execution": {
     "iopub.execute_input": "2024-03-26T09:21:51.843704Z",
     "iopub.status.busy": "2024-03-26T09:21:51.842595Z",
     "iopub.status.idle": "2024-03-26T09:21:52.231877Z",
     "shell.execute_reply": "2024-03-26T09:21:52.230540Z"
    },
    "papermill": {
     "duration": 0.414693,
     "end_time": "2024-03-26T09:21:52.234665",
     "exception": false,
     "start_time": "2024-03-26T09:21:51.819972",
     "status": "completed"
    },
    "tags": []
   },
   "outputs": [
    {
     "data": {
      "text/plain": [
       "<Axes: >"
      ]
     },
     "execution_count": 29,
     "metadata": {},
     "output_type": "execute_result"
    },
    {
     "data": {
      "image/png": "[encoded data removed]",
      "text/plain": [
       "<Figure size 640x480 with 1 Axes>"
      ]
     },
     "metadata": {},
     "output_type": "display_data"
    }
   ],
   "source": [
    "# ad group\n",
    "estimate_df_ad['estimate'].hist()"
   ]
  },
  {
   "cell_type": "code",
   "execution_count": 30,
   "id": "63a0b6ab",
   "metadata": {
    "execution": {
     "iopub.execute_input": "2024-03-26T09:21:52.277808Z",
     "iopub.status.busy": "2024-03-26T09:21:52.277357Z",
     "iopub.status.idle": "2024-03-26T09:21:52.626043Z",
     "shell.execute_reply": "2024-03-26T09:21:52.624734Z"
    },
    "papermill": {
     "duration": 0.373912,
     "end_time": "2024-03-26T09:21:52.628793",
     "exception": false,
     "start_time": "2024-03-26T09:21:52.254881",
     "status": "completed"
    },
    "tags": []
   },
   "outputs": [
    {
     "data": {
      "text/plain": [
       "<Axes: >"
      ]
     },
     "execution_count": 30,
     "metadata": {},
     "output_type": "execute_result"
    },
    {
     "data": {
      "image/png": "[encoded data removed]",
      "text/plain": [
       "<Figure size 640x480 with 1 Axes>"
      ]
     },
     "metadata": {},
     "output_type": "display_data"
    }
   ],
   "source": [
    "# psa group\n",
    "estimate_df_psa['estimate'].hist()"
   ]
  },
  {
   "cell_type": "markdown",
   "id": "3c0f4490",
   "metadata": {
    "papermill": {
     "duration": 0.020024,
     "end_time": "2024-03-26T09:21:52.669080",
     "exception": false,
     "start_time": "2024-03-26T09:21:52.649056",
     "status": "completed"
    },
    "tags": []
   },
   "source": [
    "### 3.4 Conduct a hypothesis test\n",
    "\n",
    "Now that I have organized my data and simulated random sampling, I am ready to conduct my hypothesis test. I use two-sample t-test that it is the standard approach for comparing the means of two independent samples. \n",
    "To review, the steps for conducting a hypothesis test are:\n",
    "1. State the null hypothesis and the alternative hypothesis. \n",
    "2. Choose a significance level.\n",
    "3. Find the p-value.\n",
    "4. Reject or fail to reject the null hypothesis.\n",
    "\n",
    "#### Step1:\n",
    "In a two-sample t-test, the null hypothesis states that there is no difference between the purchases of your two groups. The alternative hypothesis states the contrary claim: there is a difference between the means of your two groups.\n",
    "\n",
    "#### Here are the hypotheses:\n",
    "\n",
    "Null Hypothesis (H₀): Advertising is not effective in increasing product purchases.\n",
    "\n",
    "Alternative Hypothesis (Hₐ): Advertising is effective in increasing product purchases.\n",
    "\n",
    "#### Step2:\n",
    "Choose a significance level The significance level is the threshold at which you will consider a result statistically significant. This is the probability of rejecting the null hypothesis when it is true. I used standard level of 5%, or 0.05.\n",
    "\n",
    "#### Step3:\n",
    "Find the p-value, I used Python function to compute p-value."
   ]
  },
  {
   "cell_type": "code",
   "execution_count": 31,
   "id": "7915a328",
   "metadata": {
    "execution": {
     "iopub.execute_input": "2024-03-26T09:21:52.711370Z",
     "iopub.status.busy": "2024-03-26T09:21:52.710937Z",
     "iopub.status.idle": "2024-03-26T09:21:52.722737Z",
     "shell.execute_reply": "2024-03-26T09:21:52.721362Z"
    },
    "papermill": {
     "duration": 0.035963,
     "end_time": "2024-03-26T09:21:52.725228",
     "exception": false,
     "start_time": "2024-03-26T09:21:52.689265",
     "status": "completed"
    },
    "tags": []
   },
   "outputs": [
    {
     "name": "stdout",
     "output_type": "stream",
     "text": [
      "T-statistic: [262.92312284]\n",
      "P-value: [0.]\n"
     ]
    }
   ],
   "source": [
    "t_statistic, p_value = stats.ttest_ind(estimate_df_ad,estimate_df_psa,equal_var=False)\n",
    "\n",
    "print(\"T-statistic:\", t_statistic)\n",
    "print(\"P-value:\", p_value)"
   ]
  },
  {
   "cell_type": "markdown",
   "id": "acd23a5e",
   "metadata": {
    "papermill": {
     "duration": 0.02173,
     "end_time": "2024-03-26T09:21:52.768319",
     "exception": false,
     "start_time": "2024-03-26T09:21:52.746589",
     "status": "completed"
    },
    "tags": []
   },
   "source": [
    "## 4. Conclusion\n",
    "#### Step 4: \n",
    "Reject or fail to reject the null hypothesis to draw a conclusion, I compared my p-value with the significance level. (p-value=0.0 < significant level=0.05)\n",
    "\n",
    "The p-value is less than the significance level, I can conclude that there is a statistically significant difference in the mean two gorup of campaign and the campaign is effective on customer purchases. In other words, I will reject the null hypothesis H0."
   ]
  },
  {
   "cell_type": "code",
   "execution_count": null,
   "id": "f2003bf7",
   "metadata": {
    "papermill": {
     "duration": 0.019979,
     "end_time": "2024-03-26T09:21:52.809992",
     "exception": false,
     "start_time": "2024-03-26T09:21:52.790013",
     "status": "completed"
    },
    "tags": []
   },
   "outputs": [],
   "source": []
  }
 ],
 "metadata": {
  "kaggle": {
   "accelerator": "none",
   "dataSources": [
    {
     "datasetId": 1660669,
     "sourceId": 2724653,
     "sourceType": "datasetVersion"
    }
   ],
   "dockerImageVersionId": 30673,
   "isGpuEnabled": false,
   "isInternetEnabled": true,
   "language": "python",
   "sourceType": "notebook"
  },
  "kernelspec": {
   "display_name": "Python 3",
   "language": "python",
   "name": "python3"
  },
  "language_info": {
   "codemirror_mode": {
    "name": "ipython",
    "version": 3
   },
   "file_extension": ".py",
   "mimetype": "text/x-python",
   "name": "python",
   "nbconvert_exporter": "python",
   "pygments_lexer": "ipython3",
   "version": "3.10.13"
  },
  "papermill": {
   "default_parameters": {},
   "duration": 19.621239,
   "end_time": "2024-03-26T09:21:53.453147",
   "environment_variables": {},
   "exception": null,
   "input_path": "__notebook__.ipynb",
   "output_path": "__notebook__.ipynb",
   "parameters": {},
   "start_time": "2024-03-26T09:21:33.831908",
   "version": "2.5.0"
  }
 },
 "nbformat": 4,
 "nbformat_minor": 5
}
